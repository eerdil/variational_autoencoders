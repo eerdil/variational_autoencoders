{
 "cells": [
  {
   "cell_type": "code",
   "execution_count": null,
   "metadata": {
    "colab": {
     "base_uri": "https://localhost:8080/",
     "height": 494
    },
    "colab_type": "code",
    "executionInfo": {
     "elapsed": 11169,
     "status": "ok",
     "timestamp": 1543085331717,
     "user": {
      "displayName": "Ertunç Erdil",
      "photoUrl": "https://lh5.googleusercontent.com/-gTgtLENaEC8/AAAAAAAAAAI/AAAAAAAAAAA/nQC4CNY7n8I/s64/photo.jpg",
      "userId": "03311864043264945628"
     },
     "user_tz": 0
    },
    "id": "JHdjoBG7-MVI",
    "outputId": "d5f27493-e53f-496a-83ca-2b84dc054022"
   },
   "outputs": [],
   "source": [
    "import tensorflow as tf\n",
    "import numpy as np\n",
    "import matplotlib.pyplot as plt\n",
    "import math\n",
    "from scipy import misc as im\n",
    "\n",
    "from tensorflow.examples.tutorials.mnist import input_data\n",
    "mnist = input_data.read_data_sets('MNIST_data')"
   ]
  },
  {
   "cell_type": "code",
   "execution_count": null,
   "metadata": {
    "colab": {},
    "colab_type": "code",
    "id": "ZnXqSz2I-MVQ"
   },
   "outputs": [],
   "source": [
    "tf.reset_default_graph()\n",
    "\n",
    "# Network Parameters\n",
    "num_hidden_1 = 256 # number of parameters in the first fully connected layer in encoder and decoder\n",
    "num_hidden_2 = 128 # number of parameters in the second fully connected layer in encoder\n",
    "num_hidden_3 = 3136 # number of parameters in the second fully connected layer in decoder\n",
    "num_input = 784 # MNIST data input (img shape: 28*28)\n",
    "\n",
    "batch_size = 64\n",
    "\n",
    "X_in = tf.placeholder(dtype=tf.float32, shape=[None, 28, 28, 1], name='X')\n",
    "keep_prob = tf.placeholder(dtype=tf.float32, shape=(), name='keep_prob')\n",
    "\n",
    "# Model\n",
    "# Training Parameters\n",
    "number_of_training_iterations = 10000\n",
    "learning_rate = 0.0005\n",
    "train_on_gpu = False # True for training on GPU, False for training on CPU\n",
    "\n",
    "# tensorflow graph\n",
    "regularizer = tf.contrib.layers.l2_regularizer(scale = 0.1)\n",
    "\n",
    "# Function that builds computational graph of encoder\n",
    "def encoder(x, keep_prob):\n",
    "    conv1 = tf.layers.conv2d(inputs=x, filters=32, kernel_size=[5, 5], padding=\"same\", activation=tf.nn.relu, kernel_regularizer = regularizer, name = 'enc_conv1')    \n",
    "    conv1 = tf.nn.dropout(conv1, keep_prob)\n",
    "    pool1 = tf.layers.max_pooling2d(inputs=conv1, pool_size=[2, 2], strides=2)    \n",
    "    \n",
    "    conv2 = tf.layers.conv2d(inputs=pool1, filters=64, kernel_size=[5, 5], padding=\"same\", activation=tf.nn.relu, kernel_regularizer = regularizer, name = 'enc_conv2')\n",
    "    conv2 = tf.nn.dropout(conv2, keep_prob)\n",
    "    pool2 = tf.layers.max_pooling2d(inputs=conv2, pool_size=[2, 2], strides=2)    \n",
    "    flattened = tf.layers.flatten(pool2)    \n",
    "    \n",
    "    dense1 = tf.layers.dense(inputs=flattened, units=num_hidden_1, activation=tf.nn.relu, kernel_regularizer = regularizer, name = 'enc_dense1')\n",
    "    \n",
    "    z_mean = tf.layers.dense(inputs=dense1, units=num_hidden_2, name = 'enc_dense2_mn')\n",
    "    \n",
    "    z_log_sigma_sq = 0.5 * tf.layers.dense(inputs=dense1, units=num_hidden_2, name = 'enc_dense2_sd')\n",
    "    \n",
    "    eps = tf.random_normal([tf.shape(x)[0], num_hidden_2], dtype=tf.float32)\n",
    "     \n",
    "    z = tf.multiply(eps, tf.exp(z_log_sigma_sq)) + z_mean\n",
    "    \n",
    "    return z, z_mean, z_log_sigma_sq\n",
    "\n",
    "# Function that builds computational graph of decoder\n",
    "def decoder(z, keep_prob):\n",
    "    dense1 = tf.layers.dense(inputs=z, units=num_hidden_1, activation=tf.nn.relu, kernel_regularizer = regularizer, name = 'dec_dense1')\n",
    "        \n",
    "    dense2 = tf.layers.dense(inputs=dense1, units=num_hidden_3, activation=tf.nn.relu, kernel_regularizer = regularizer, name = 'dec_dense2')\n",
    "        \n",
    "    dense2 = tf.reshape(dense2, shape=[-1, 7, 7, 64])\n",
    "        \n",
    "    deconv1 = tf.layers.conv2d_transpose(dense2, 64, [5, 5], padding = 'SAME', kernel_regularizer = regularizer, activation=tf.nn.relu, name = 'dec_conv1')\n",
    "    deconv1 = tf.nn.dropout(deconv1, keep_prob)\n",
    "    \n",
    "    upsample1 = tf.image.resize_bilinear(deconv1, size=[14, 14], align_corners=None, name=None)\n",
    "        \n",
    "    deconv2 = tf.layers.conv2d_transpose(upsample1, 32, [5, 5], padding = 'SAME', kernel_regularizer = regularizer, activation=tf.nn.relu, name = 'dec_conv2')\n",
    "    deconv2 = tf.nn.dropout(deconv2, keep_prob)\n",
    "    \n",
    "    upsample2 = tf.image.resize_bilinear(deconv2, size=[28, 28], align_corners=None, name=None)\n",
    "        \n",
    "    flattened = tf.layers.flatten(upsample2)\n",
    "        \n",
    "    dense3 = tf.layers.dense(inputs=flattened, units=28*28, activation=tf.nn.sigmoid, kernel_regularizer = regularizer, name = 'dec_dense3')\n",
    "    \n",
    "    dense3 = tf.reshape(dense3, shape = [-1, 28, 28, 1])\n",
    "    \n",
    "    return dense3\n",
    "\n",
    "# Autoencoder model\n",
    "if train_on_gpu:\n",
    "    with tf.device('/gpu:0'):\n",
    "        z, mn, sd = encoder(X_in, keep_prob)\n",
    "        dec = decoder(z, keep_prob)\n",
    "else:\n",
    "    z, mn, sd = encoder(X_in, keep_prob)\n",
    "    dec = decoder(z, keep_prob)\n",
    "\n",
    "# The output of decoder becomes prediction\n",
    "y_pred = dec\n",
    "\n",
    "# In autoencoders, our labels are input images since the aim is to \n",
    "# reconstruct the original image from its low dimensional representation\n",
    "y_true = X_in\n",
    "\n",
    "# Loss function is mean square error and KL divergence which we minimize using Adam Optimizer\n",
    "latent_loss = -0.5 * tf.reduce_sum(1.0 + 2.0 * sd - tf.square(mn) - tf.exp(2.0 * sd), 1)\n",
    "img_loss = tf.reduce_sum(tf.squared_difference(tf.reshape(dec, [-1, 28 * 28]), tf.reshape(y_true, [-1, 28 * 28])), 1)\n",
    "\n",
    "loss = tf.reduce_mean(img_loss + latent_loss)\n",
    "optimizer = tf.train.AdamOptimizer(learning_rate).minimize(loss)\n",
    "\n",
    "saver = tf.train.Saver()"
   ]
  },
  {
   "cell_type": "code",
   "execution_count": null,
   "metadata": {
    "colab": {
     "base_uri": "https://localhost:8080/",
     "height": 6818
    },
    "colab_type": "code",
    "executionInfo": {
     "elapsed": 362069,
     "status": "ok",
     "timestamp": 1543085011256,
     "user": {
      "displayName": "Ertunç Erdil",
      "photoUrl": "https://lh5.googleusercontent.com/-gTgtLENaEC8/AAAAAAAAAAI/AAAAAAAAAAA/nQC4CNY7n8I/s64/photo.jpg",
      "userId": "03311864043264945628"
     },
     "user_tz": 0
    },
    "id": "gbTIDauc-MVU",
    "outputId": "ecb2b6a5-080e-4784-800b-f1c3ffbcf44d"
   },
   "outputs": [],
   "source": [
    "# If you just want to use a pre-trained model, please skip this cell and run the next one.\n",
    "# Training\n",
    "\n",
    "sess = tf.Session() # start a Tensorflow session\n",
    "sess.run(tf.global_variables_initializer()) # initialize variables\n",
    "\n",
    "# Training iterations\n",
    "for i in range(number_of_training_iterations):\n",
    "    batch_x = [np.reshape(b, [28, 28, 1]) for b in mnist.train.next_batch(batch_size=batch_size)[0]] # get a new batch\n",
    "    \n",
    "    _, l, d = sess.run([optimizer, loss, dec], feed_dict={X_in: batch_x, keep_prob: 1}) # perform optimization\n",
    "    #writer = tf.summary.FileWriter('./drive/My Drive/Colab Notebooks', sess.graph)\n",
    "    # The following two lines are just to see how well decoder performs\n",
    "    z_new = np.random.normal(0, 1, [batch_size, num_hidden_2])\n",
    "    g = sess.run(dec, feed_dict={z: z_new, keep_prob: 1})\n",
    "  \n",
    "    if (i % 1000 == 1):\n",
    "        plt.imshow(np.reshape(d[0], [28, 28]), cmap = 'gray') # reconstruction of batch_x[0]\n",
    "        plt.show()\n",
    "        plt.imshow(np.reshape(g[0], [28, 28]), cmap = 'gray') # a random sample from decoder\n",
    "        plt.show()\n",
    "        print(\"iter %d - loss = %f\" % (i, l))\n",
    "\n",
    "save_path = saver.save(sess, './tf_model.ckpt')\n",
    "print(\"Model saved in path: %s\" % save_path)\n",
    "\n",
    "sess.close()"
   ]
  },
  {
   "cell_type": "code",
   "execution_count": null,
   "metadata": {
    "colab": {
     "base_uri": "https://localhost:8080/",
     "height": 239
    },
    "colab_type": "code",
    "executionInfo": {
     "elapsed": 819,
     "status": "error",
     "timestamp": 1543085640094,
     "user": {
      "displayName": "Ertunç Erdil",
      "photoUrl": "https://lh5.googleusercontent.com/-gTgtLENaEC8/AAAAAAAAAAI/AAAAAAAAAAA/nQC4CNY7n8I/s64/photo.jpg",
      "userId": "03311864043264945628"
     },
     "user_tz": 0
    },
    "id": "e11mXcKG2_Ic",
    "outputId": "b79039f4-34d3-4699-a907-19548d1b0519"
   },
   "outputs": [],
   "source": [
    "# Test\n",
    "# Start a new tensorflow session\n",
    "from scipy import misc as im\n",
    "\n",
    "sess = tf.Session()\n",
    "    \n",
    "# Restore the saved model\n",
    "saver.restore(sess, \"./tf_model.ckpt\")\n",
    "        \n",
    "number_of_samples = 100 # number of images to generate\n",
    "\n",
    "# Generate a noise vector from unit Gaussian distribution\n",
    "z_new = np.random.normal(0, 1, [number_of_samples, num_hidden_2])\n",
    "g = sess.run(dec, feed_dict={z: z_new, keep_prob: 1})\n",
    "\n",
    "for i in range(number_of_samples):\n",
    "    #temp = im.imresize(g[i].reshape([28, 28]), (56, 56), interp = 'bilinear')\n",
    "    #im.imsave('./drive/My Drive/Github/segmentation_autoencoder/Results_VAE/mnist_vae_%d.png'%i, temp)\n",
    "    plt.imshow(g[i].reshape([28, 28]), cmap=\"gray\")\n",
    "    plt.show()\n",
    "\n",
    "sess.close()"
   ]
  }
 ],
 "metadata": {
  "accelerator": "GPU",
  "colab": {
   "collapsed_sections": [],
   "name": "variational_autoencoders.ipynb",
   "provenance": [],
   "version": "0.3.2"
  },
  "kernelspec": {
   "display_name": "Python 3",
   "language": "python",
   "name": "python3"
  },
  "language_info": {
   "codemirror_mode": {
    "name": "ipython",
    "version": 3
   },
   "file_extension": ".py",
   "mimetype": "text/x-python",
   "name": "python",
   "nbconvert_exporter": "python",
   "pygments_lexer": "ipython3",
   "version": "3.6.6"
  }
 },
 "nbformat": 4,
 "nbformat_minor": 1
}
